{
 "cells": [
  {
   "cell_type": "markdown",
   "metadata": {},
   "source": [
    "# NAME : G.L.K RAGHAVENDRA VARMA\n",
    "\n",
    "#  ML-MAJOR-MAY-ML052B15"
   ]
  },
  {
   "cell_type": "code",
   "execution_count": 185,
   "metadata": {},
   "outputs": [],
   "source": [
    "import pandas as pd\n",
    "import numpy as np\n",
    "import seaborn as sns\n",
    "import matplotlib.pyplot as plt\n",
    "from collections import Counter"
   ]
  },
  {
   "cell_type": "markdown",
   "metadata": {},
   "source": [
    "# in this one,gender is the dependent variable\n"
   ]
  },
  {
   "cell_type": "code",
   "execution_count": 186,
   "metadata": {
    "scrolled": true
   },
   "outputs": [
    {
     "data": {
      "text/html": [
       "<div>\n",
       "<style scoped>\n",
       "    .dataframe tbody tr th:only-of-type {\n",
       "        vertical-align: middle;\n",
       "    }\n",
       "\n",
       "    .dataframe tbody tr th {\n",
       "        vertical-align: top;\n",
       "    }\n",
       "\n",
       "    .dataframe thead th {\n",
       "        text-align: right;\n",
       "    }\n",
       "</style>\n",
       "<table border=\"1\" class=\"dataframe\">\n",
       "  <thead>\n",
       "    <tr style=\"text-align: right;\">\n",
       "      <th></th>\n",
       "      <th>_unit_id</th>\n",
       "      <th>_golden</th>\n",
       "      <th>_unit_state</th>\n",
       "      <th>_trusted_judgments</th>\n",
       "      <th>_last_judgment_at</th>\n",
       "      <th>gender</th>\n",
       "      <th>gender:confidence</th>\n",
       "      <th>profile_yn</th>\n",
       "      <th>profile_yn:confidence</th>\n",
       "      <th>created</th>\n",
       "      <th>...</th>\n",
       "      <th>profileimage</th>\n",
       "      <th>retweet_count</th>\n",
       "      <th>sidebar_color</th>\n",
       "      <th>text</th>\n",
       "      <th>tweet_coord</th>\n",
       "      <th>tweet_count</th>\n",
       "      <th>tweet_created</th>\n",
       "      <th>tweet_id</th>\n",
       "      <th>tweet_location</th>\n",
       "      <th>user_timezone</th>\n",
       "    </tr>\n",
       "  </thead>\n",
       "  <tbody>\n",
       "    <tr>\n",
       "      <th>0</th>\n",
       "      <td>815719226</td>\n",
       "      <td>False</td>\n",
       "      <td>finalized</td>\n",
       "      <td>3</td>\n",
       "      <td>10/26/15 23:24</td>\n",
       "      <td>male</td>\n",
       "      <td>1.0000</td>\n",
       "      <td>yes</td>\n",
       "      <td>1.0</td>\n",
       "      <td>12/5/13 1:48</td>\n",
       "      <td>...</td>\n",
       "      <td>https://pbs.twimg.com/profile_images/414342229096808449/fYvzqXN7_normal.png</td>\n",
       "      <td>0</td>\n",
       "      <td>FFFFFF</td>\n",
       "      <td>Robbie E Responds To Critics After Win Against Eddie Edwards In The #WorldTitleSeries https://t.co/NSybBmVjKZ</td>\n",
       "      <td>NaN</td>\n",
       "      <td>110964</td>\n",
       "      <td>10/26/15 12:40</td>\n",
       "      <td>6.587300e+17</td>\n",
       "      <td>main; @Kan1shk3</td>\n",
       "      <td>Chennai</td>\n",
       "    </tr>\n",
       "    <tr>\n",
       "      <th>1</th>\n",
       "      <td>815719227</td>\n",
       "      <td>False</td>\n",
       "      <td>finalized</td>\n",
       "      <td>3</td>\n",
       "      <td>10/26/15 23:30</td>\n",
       "      <td>male</td>\n",
       "      <td>1.0000</td>\n",
       "      <td>yes</td>\n",
       "      <td>1.0</td>\n",
       "      <td>10/1/12 13:51</td>\n",
       "      <td>...</td>\n",
       "      <td>https://pbs.twimg.com/profile_images/539604221532700673/WW16tBbU_normal.jpeg</td>\n",
       "      <td>0</td>\n",
       "      <td>C0DEED</td>\n",
       "      <td>ÛÏIt felt like they were my friends and I was living the story with themÛ https://t.co/arngE0YHNO #retired #IAN1 https://t.co/CIzCANPQFz</td>\n",
       "      <td>NaN</td>\n",
       "      <td>7471</td>\n",
       "      <td>10/26/15 12:40</td>\n",
       "      <td>6.587300e+17</td>\n",
       "      <td>NaN</td>\n",
       "      <td>Eastern Time (US &amp; Canada)</td>\n",
       "    </tr>\n",
       "    <tr>\n",
       "      <th>2</th>\n",
       "      <td>815719228</td>\n",
       "      <td>False</td>\n",
       "      <td>finalized</td>\n",
       "      <td>3</td>\n",
       "      <td>10/26/15 23:33</td>\n",
       "      <td>male</td>\n",
       "      <td>0.6625</td>\n",
       "      <td>yes</td>\n",
       "      <td>1.0</td>\n",
       "      <td>11/28/14 11:30</td>\n",
       "      <td>...</td>\n",
       "      <td>https://pbs.twimg.com/profile_images/657330418249658368/SBLCXdF7_normal.png</td>\n",
       "      <td>1</td>\n",
       "      <td>C0DEED</td>\n",
       "      <td>i absolutely adore when louis starts the songs it hits me hard but it feels good</td>\n",
       "      <td>NaN</td>\n",
       "      <td>5617</td>\n",
       "      <td>10/26/15 12:40</td>\n",
       "      <td>6.587300e+17</td>\n",
       "      <td>clcncl</td>\n",
       "      <td>Belgrade</td>\n",
       "    </tr>\n",
       "    <tr>\n",
       "      <th>3</th>\n",
       "      <td>815719229</td>\n",
       "      <td>False</td>\n",
       "      <td>finalized</td>\n",
       "      <td>3</td>\n",
       "      <td>10/26/15 23:10</td>\n",
       "      <td>male</td>\n",
       "      <td>1.0000</td>\n",
       "      <td>yes</td>\n",
       "      <td>1.0</td>\n",
       "      <td>6/11/09 22:39</td>\n",
       "      <td>...</td>\n",
       "      <td>https://pbs.twimg.com/profile_images/259703936/IMG_8444_normal.JPG</td>\n",
       "      <td>0</td>\n",
       "      <td>C0DEED</td>\n",
       "      <td>Hi @JordanSpieth - Looking at the url - do you use @IFTTT?!  Don't typically see an advanced user on the @PGATOUR! https://t.co/H68ou5PE9L</td>\n",
       "      <td>NaN</td>\n",
       "      <td>1693</td>\n",
       "      <td>10/26/15 12:40</td>\n",
       "      <td>6.587300e+17</td>\n",
       "      <td>Palo Alto, CA</td>\n",
       "      <td>Pacific Time (US &amp; Canada)</td>\n",
       "    </tr>\n",
       "    <tr>\n",
       "      <th>4</th>\n",
       "      <td>815719230</td>\n",
       "      <td>False</td>\n",
       "      <td>finalized</td>\n",
       "      <td>3</td>\n",
       "      <td>10/27/15 1:15</td>\n",
       "      <td>female</td>\n",
       "      <td>1.0000</td>\n",
       "      <td>yes</td>\n",
       "      <td>1.0</td>\n",
       "      <td>4/16/14 13:23</td>\n",
       "      <td>...</td>\n",
       "      <td>https://pbs.twimg.com/profile_images/564094871032446976/AOfpk-mr_normal.jpeg</td>\n",
       "      <td>0</td>\n",
       "      <td>0</td>\n",
       "      <td>Watching Neighbours on Sky+ catching up with the Neighbs!! Xxx _Ù÷Ä_Ù÷Ä_Ù÷Ä_ÙÔÎ_ÙÈ_ÙÔ_ÙÈ Xxx</td>\n",
       "      <td>NaN</td>\n",
       "      <td>31462</td>\n",
       "      <td>10/26/15 12:40</td>\n",
       "      <td>6.587300e+17</td>\n",
       "      <td>NaN</td>\n",
       "      <td>NaN</td>\n",
       "    </tr>\n",
       "  </tbody>\n",
       "</table>\n",
       "<p>5 rows × 26 columns</p>\n",
       "</div>"
      ],
      "text/plain": [
       "    _unit_id  _golden _unit_state  _trusted_judgments _last_judgment_at  \\\n",
       "0  815719226  False    finalized   3                   10/26/15 23:24     \n",
       "1  815719227  False    finalized   3                   10/26/15 23:30     \n",
       "2  815719228  False    finalized   3                   10/26/15 23:33     \n",
       "3  815719229  False    finalized   3                   10/26/15 23:10     \n",
       "4  815719230  False    finalized   3                   10/27/15 1:15      \n",
       "\n",
       "   gender  gender:confidence profile_yn  profile_yn:confidence  \\\n",
       "0  male    1.0000             yes        1.0                     \n",
       "1  male    1.0000             yes        1.0                     \n",
       "2  male    0.6625             yes        1.0                     \n",
       "3  male    1.0000             yes        1.0                     \n",
       "4  female  1.0000             yes        1.0                     \n",
       "\n",
       "          created  ...  \\\n",
       "0  12/5/13 1:48    ...   \n",
       "1  10/1/12 13:51   ...   \n",
       "2  11/28/14 11:30  ...   \n",
       "3  6/11/09 22:39   ...   \n",
       "4  4/16/14 13:23   ...   \n",
       "\n",
       "                                                                   profileimage  \\\n",
       "0  https://pbs.twimg.com/profile_images/414342229096808449/fYvzqXN7_normal.png    \n",
       "1  https://pbs.twimg.com/profile_images/539604221532700673/WW16tBbU_normal.jpeg   \n",
       "2  https://pbs.twimg.com/profile_images/657330418249658368/SBLCXdF7_normal.png    \n",
       "3  https://pbs.twimg.com/profile_images/259703936/IMG_8444_normal.JPG             \n",
       "4  https://pbs.twimg.com/profile_images/564094871032446976/AOfpk-mr_normal.jpeg   \n",
       "\n",
       "   retweet_count sidebar_color  \\\n",
       "0  0              FFFFFF         \n",
       "1  0              C0DEED         \n",
       "2  1              C0DEED         \n",
       "3  0              C0DEED         \n",
       "4  0              0              \n",
       "\n",
       "                                                                                                                                          text  \\\n",
       "0  Robbie E Responds To Critics After Win Against Eddie Edwards In The #WorldTitleSeries https://t.co/NSybBmVjKZ                                 \n",
       "1  ÛÏIt felt like they were my friends and I was living the story with themÛ https://t.co/arngE0YHNO #retired #IAN1 https://t.co/CIzCANPQFz   \n",
       "2  i absolutely adore when louis starts the songs it hits me hard but it feels good                                                              \n",
       "3  Hi @JordanSpieth - Looking at the url - do you use @IFTTT?!  Don't typically see an advanced user on the @PGATOUR! https://t.co/H68ou5PE9L    \n",
       "4  Watching Neighbours on Sky+ catching up with the Neighbs!! Xxx _Ù÷Ä_Ù÷Ä_Ù÷Ä_ÙÔÎ_ÙÈ_ÙÔ_ÙÈ Xxx                                               \n",
       "\n",
       "  tweet_coord tweet_count   tweet_created      tweet_id   tweet_location  \\\n",
       "0  NaN         110964      10/26/15 12:40  6.587300e+17  main; @Kan1shk3   \n",
       "1  NaN         7471        10/26/15 12:40  6.587300e+17  NaN               \n",
       "2  NaN         5617        10/26/15 12:40  6.587300e+17  clcncl            \n",
       "3  NaN         1693        10/26/15 12:40  6.587300e+17  Palo Alto, CA     \n",
       "4  NaN         31462       10/26/15 12:40  6.587300e+17  NaN               \n",
       "\n",
       "                user_timezone  \n",
       "0  Chennai                     \n",
       "1  Eastern Time (US & Canada)  \n",
       "2  Belgrade                    \n",
       "3  Pacific Time (US & Canada)  \n",
       "4  NaN                         \n",
       "\n",
       "[5 rows x 26 columns]"
      ]
     },
     "execution_count": 186,
     "metadata": {},
     "output_type": "execute_result"
    }
   ],
   "source": [
    "#importing data with latin-1 encoding because there are some special characters\n",
    "dataset = pd.read_csv(\"Information.csv\",encoding='latin-1')\n",
    "#first five rows of the dataset\n",
    "dataset.head()"
   ]
  },
  {
   "cell_type": "code",
   "execution_count": 187,
   "metadata": {},
   "outputs": [
    {
     "name": "stdout",
     "output_type": "stream",
     "text": [
      "<class 'pandas.core.frame.DataFrame'>\n",
      "RangeIndex: 20050 entries, 0 to 20049\n",
      "Data columns (total 26 columns):\n",
      " #   Column                 Non-Null Count  Dtype  \n",
      "---  ------                 --------------  -----  \n",
      " 0   _unit_id               20050 non-null  int64  \n",
      " 1   _golden                20050 non-null  bool   \n",
      " 2   _unit_state            20050 non-null  object \n",
      " 3   _trusted_judgments     20050 non-null  int64  \n",
      " 4   _last_judgment_at      20000 non-null  object \n",
      " 5   gender                 19953 non-null  object \n",
      " 6   gender:confidence      20024 non-null  float64\n",
      " 7   profile_yn             20050 non-null  object \n",
      " 8   profile_yn:confidence  20050 non-null  float64\n",
      " 9   created                20050 non-null  object \n",
      " 10  description            16306 non-null  object \n",
      " 11  fav_number             20050 non-null  int64  \n",
      " 12  gender_gold            50 non-null     object \n",
      " 13  link_color             20050 non-null  object \n",
      " 14  name                   20050 non-null  object \n",
      " 15  profile_yn_gold        50 non-null     object \n",
      " 16  profileimage           20050 non-null  object \n",
      " 17  retweet_count          20050 non-null  int64  \n",
      " 18  sidebar_color          20050 non-null  object \n",
      " 19  text                   20050 non-null  object \n",
      " 20  tweet_coord            159 non-null    object \n",
      " 21  tweet_count            20050 non-null  int64  \n",
      " 22  tweet_created          20050 non-null  object \n",
      " 23  tweet_id               20050 non-null  float64\n",
      " 24  tweet_location         12566 non-null  object \n",
      " 25  user_timezone          12252 non-null  object \n",
      "dtypes: bool(1), float64(3), int64(5), object(17)\n",
      "memory usage: 3.8+ MB\n"
     ]
    }
   ],
   "source": [
    "dataset.info()"
   ]
  },
  {
   "cell_type": "code",
   "execution_count": 188,
   "metadata": {},
   "outputs": [
    {
     "data": {
      "text/plain": [
       "(20050, 26)"
      ]
     },
     "execution_count": 188,
     "metadata": {},
     "output_type": "execute_result"
    }
   ],
   "source": [
    "dataset.shape"
   ]
  },
  {
   "cell_type": "code",
   "execution_count": 189,
   "metadata": {},
   "outputs": [
    {
     "data": {
      "text/plain": [
       "female     6700\n",
       "male       6194\n",
       "brand      5942\n",
       "unknown    1117\n",
       "Name: gender, dtype: int64"
      ]
     },
     "execution_count": 189,
     "metadata": {},
     "output_type": "execute_result"
    }
   ],
   "source": [
    "dataset['gender'].value_counts()"
   ]
  },
  {
   "cell_type": "code",
   "execution_count": 190,
   "metadata": {},
   "outputs": [
    {
     "data": {
      "text/html": [
       "<div>\n",
       "<style scoped>\n",
       "    .dataframe tbody tr th:only-of-type {\n",
       "        vertical-align: middle;\n",
       "    }\n",
       "\n",
       "    .dataframe tbody tr th {\n",
       "        vertical-align: top;\n",
       "    }\n",
       "\n",
       "    .dataframe thead th {\n",
       "        text-align: right;\n",
       "    }\n",
       "</style>\n",
       "<table border=\"1\" class=\"dataframe\">\n",
       "  <thead>\n",
       "    <tr style=\"text-align: right;\">\n",
       "      <th></th>\n",
       "      <th>gender</th>\n",
       "      <th>gender:confidence</th>\n",
       "      <th>description</th>\n",
       "      <th>gender_gold</th>\n",
       "      <th>link_color</th>\n",
       "      <th>name</th>\n",
       "      <th>sidebar_color</th>\n",
       "      <th>text</th>\n",
       "    </tr>\n",
       "  </thead>\n",
       "  <tbody>\n",
       "    <tr>\n",
       "      <th>0</th>\n",
       "      <td>male</td>\n",
       "      <td>1.0000</td>\n",
       "      <td>i sing my own rhythm.</td>\n",
       "      <td>NaN</td>\n",
       "      <td>08C2C2</td>\n",
       "      <td>sheezy0</td>\n",
       "      <td>FFFFFF</td>\n",
       "      <td>Robbie E Responds To Critics After Win Against Eddie Edwards In The #WorldTitleSeries https://t.co/NSybBmVjKZ</td>\n",
       "    </tr>\n",
       "    <tr>\n",
       "      <th>1</th>\n",
       "      <td>male</td>\n",
       "      <td>1.0000</td>\n",
       "      <td>I'm the author of novels filled with family drama and romance.</td>\n",
       "      <td>NaN</td>\n",
       "      <td>0084B4</td>\n",
       "      <td>DavdBurnett</td>\n",
       "      <td>C0DEED</td>\n",
       "      <td>ÛÏIt felt like they were my friends and I was living the story with themÛ https://t.co/arngE0YHNO #retired #IAN1 https://t.co/CIzCANPQFz</td>\n",
       "    </tr>\n",
       "    <tr>\n",
       "      <th>2</th>\n",
       "      <td>male</td>\n",
       "      <td>0.6625</td>\n",
       "      <td>louis whining and squealing and all</td>\n",
       "      <td>NaN</td>\n",
       "      <td>ABB8C2</td>\n",
       "      <td>lwtprettylaugh</td>\n",
       "      <td>C0DEED</td>\n",
       "      <td>i absolutely adore when louis starts the songs it hits me hard but it feels good</td>\n",
       "    </tr>\n",
       "    <tr>\n",
       "      <th>3</th>\n",
       "      <td>male</td>\n",
       "      <td>1.0000</td>\n",
       "      <td>Mobile guy.  49ers, Shazam, Google, Kleiner Perkins, Yahoo!, Sprint PCS, AirTouch, Air Force.  Stanford GSB, UVa.  Dad, Husband, Brother.  Golfer.</td>\n",
       "      <td>NaN</td>\n",
       "      <td>0084B4</td>\n",
       "      <td>douggarland</td>\n",
       "      <td>C0DEED</td>\n",
       "      <td>Hi @JordanSpieth - Looking at the url - do you use @IFTTT?!  Don't typically see an advanced user on the @PGATOUR! https://t.co/H68ou5PE9L</td>\n",
       "    </tr>\n",
       "    <tr>\n",
       "      <th>4</th>\n",
       "      <td>female</td>\n",
       "      <td>1.0000</td>\n",
       "      <td>Ricky Wilson The Best FRONTMAN/Kaiser Chiefs The Best BAND Xxxx Thank you Kaiser Chiefs for an incredible year of gigs and memories to cherish always :) Xxxxxxx</td>\n",
       "      <td>NaN</td>\n",
       "      <td>3B94D9</td>\n",
       "      <td>WilfordGemma</td>\n",
       "      <td>0</td>\n",
       "      <td>Watching Neighbours on Sky+ catching up with the Neighbs!! Xxx _Ù÷Ä_Ù÷Ä_Ù÷Ä_ÙÔÎ_ÙÈ_ÙÔ_ÙÈ Xxx</td>\n",
       "    </tr>\n",
       "  </tbody>\n",
       "</table>\n",
       "</div>"
      ],
      "text/plain": [
       "   gender  gender:confidence  \\\n",
       "0  male    1.0000              \n",
       "1  male    1.0000              \n",
       "2  male    0.6625              \n",
       "3  male    1.0000              \n",
       "4  female  1.0000              \n",
       "\n",
       "                                                                                                                                                        description  \\\n",
       "0  i sing my own rhythm.                                                                                                                                              \n",
       "1  I'm the author of novels filled with family drama and romance.                                                                                                     \n",
       "2  louis whining and squealing and all                                                                                                                                \n",
       "3  Mobile guy.  49ers, Shazam, Google, Kleiner Perkins, Yahoo!, Sprint PCS, AirTouch, Air Force.  Stanford GSB, UVa.  Dad, Husband, Brother.  Golfer.                 \n",
       "4  Ricky Wilson The Best FRONTMAN/Kaiser Chiefs The Best BAND Xxxx Thank you Kaiser Chiefs for an incredible year of gigs and memories to cherish always :) Xxxxxxx   \n",
       "\n",
       "  gender_gold link_color            name sidebar_color  \\\n",
       "0  NaN         08C2C2     sheezy0         FFFFFF         \n",
       "1  NaN         0084B4     DavdBurnett     C0DEED         \n",
       "2  NaN         ABB8C2     lwtprettylaugh  C0DEED         \n",
       "3  NaN         0084B4     douggarland     C0DEED         \n",
       "4  NaN         3B94D9     WilfordGemma    0              \n",
       "\n",
       "                                                                                                                                          text  \n",
       "0  Robbie E Responds To Critics After Win Against Eddie Edwards In The #WorldTitleSeries https://t.co/NSybBmVjKZ                                \n",
       "1  ÛÏIt felt like they were my friends and I was living the story with themÛ https://t.co/arngE0YHNO #retired #IAN1 https://t.co/CIzCANPQFz  \n",
       "2  i absolutely adore when louis starts the songs it hits me hard but it feels good                                                             \n",
       "3  Hi @JordanSpieth - Looking at the url - do you use @IFTTT?!  Don't typically see an advanced user on the @PGATOUR! https://t.co/H68ou5PE9L   \n",
       "4  Watching Neighbours on Sky+ catching up with the Neighbs!! Xxx _Ù÷Ä_Ù÷Ä_Ù÷Ä_ÙÔÎ_ÙÈ_ÙÔ_ÙÈ Xxx                                              "
      ]
     },
     "execution_count": 190,
     "metadata": {},
     "output_type": "execute_result"
    }
   ],
   "source": [
    "dataset.drop(['_unit_id','_golden','_unit_state','_trusted_judgments','_last_judgment_at','profile_yn','profile_yn:confidence','created','retweet_count','tweet_count','tweet_created','tweet_id','tweet_location','user_timezone','fav_number','profile_yn_gold','profileimage','tweet_coord'], axis=1, inplace= True)\n",
    "dataset.head()"
   ]
  },
  {
   "cell_type": "code",
   "execution_count": 191,
   "metadata": {},
   "outputs": [
    {
     "data": {
      "text/plain": [
       "<matplotlib.axes._subplots.AxesSubplot at 0x1ab66d60a08>"
      ]
     },
     "execution_count": 191,
     "metadata": {},
     "output_type": "execute_result"
    },
    {
     "data": {
      "image/png": "[encoded data removed]",
      "text/plain": [
       "<Figure size 432x288 with 1 Axes>"
      ]
     },
     "metadata": {
      "needs_background": "light"
     },
     "output_type": "display_data"
    }
   ],
   "source": [
    "dataset.gender.value_counts()\n",
    "dataset.gender.value_counts().plot(kind='bar')\n",
    "#Below graph shows number of male,female,brand,unknown tweeters in the dataset."
   ]
  },
  {
   "cell_type": "markdown",
   "metadata": {},
   "source": [
    "here,i only consider male, female and brand categories "
   ]
  },
  {
   "cell_type": "markdown",
   "metadata": {},
   "source": [
    "# Data Analysis(Feature selection and feature engineering)\n",
    "# 1. Link_color and Sidebar_color Features Exploration"
   ]
  },
  {
   "cell_type": "markdown",
   "metadata": {},
   "source": [
    "Exploring the features \"sidebar color\" and \"link color\" for the three gender categories male, female and brand"
   ]
  },
  {
   "cell_type": "code",
   "execution_count": 203,
   "metadata": {},
   "outputs": [],
   "source": [
    "# Defining the function to return values from link_color and sidebar_color for each gender category\n",
    "def plot_color_features(data, feature, toRemove):\n",
    "    # Selecting columns from the data\n",
    "    dataset_col = dataset.loc[:, ['gender:confidence', 'gender', feature]]\n",
    "    \n",
    "    # Selecting rows where gender:confidence >= 1 and removing values like 7.60E+42\n",
    "    datasetcolFiltered = dataset_col[(dataset_col['gender:confidence'] >= 1) &\n",
    "                         ((dataset_col[feature]).str.contains('E\\+') != True)]\n",
    "    \n",
    "    # Segregating data based on the gender category\n",
    "    Male_data = datasetcolFiltered[datasetcolFiltered['gender'] == 'male']\n",
    "    Female_data = datasetcolFiltered[datasetcolFiltered['gender'] == 'female']\n",
    "    Brand_data = datasetcolFiltered[datasetcolFiltered['gender'] == 'brand']\n",
    "    \n",
    "    # To plot the graph, I need top 20 colors along with its count for each gender category\n",
    "    color_male = Male_data[feature]\n",
    "    color_female = Female_data[feature]\n",
    "    color_brand = Brand_data[feature]\n",
    "    \n",
    "    # Creating list of lists by using flatten method\n",
    "    male_list = list(color_male.values.flatten())\n",
    "    female_list = list(color_female.values.flatten())\n",
    "    brand_list = list(color_brand.values.flatten())\n",
    "    \n",
    "    # Only Selecting top 20 colors used by each gender and creating a list which includes the color and the count\n",
    "    color_male = Counter(color_male).most_common(21)\n",
    "    color_female = Counter(color_female).most_common(21)\n",
    "    color_brand = Counter(color_brand).most_common(21)\n",
    "    \n",
    "    # Taking list of colors for each gender category\n",
    "    # Not selecting the first most common color from each of the gender category\n",
    "    male_colors = [x[0] for x in color_male[toRemove:]] \n",
    "    female_colors = [x[0] for x in color_female[toRemove:]] \n",
    "    brand_colors = [x[0] for x in color_brand[toRemove:]]\n",
    "    \n",
    "    # Taking list of counts for each gender category\n",
    "    # Not Selecting the first most common number because the most common color is blue for all the categories and it doesnt give much value\n",
    "    male_num = [x[1] for x in color_male[toRemove:]] \n",
    "    female_num = [x[1] for x in color_female[toRemove:]] \n",
    "    brand_num = [x[1] for x in color_brand[toRemove:]]\n",
    "    \n",
    "    # Converting hex codes into consistent format\n",
    "    # 1. Prefixing hex code with # and adding six zeros to it\n",
    "    # 2. Selecting 6 characters from the newly converted hex code\n",
    "    Hexcolor_Male = ['#' + x + '000000' for x in male_colors]\n",
    "    Hexcolor_Male = [x[0:7] for x in Hexcolor_Male]\n",
    "    Hexcolor_Female = ['#' + x + '000000' for x in female_colors]\n",
    "    Hexcolor_Female = [x[0:7] for x in Hexcolor_Female]\n",
    "    Hexcolor_Brand = ['#' + x + '000000' for x in brand_colors]\n",
    "    Hexcolor_Brand = [x[0:7] for x in Hexcolor_Brand]\n",
    "    \n",
    "    return male_num, female_num, brand_num, Hexcolor_Male, Hexcolor_Female, Hexcolor_Brand"
   ]
  },
  {
   "cell_type": "code",
   "execution_count": 204,
   "metadata": {},
   "outputs": [],
   "source": [
    "# calling function plot_color_features and removing 1 most common occuring color from each category\n",
    "male_num, female_num, brand_num, Hexcolor_Male, Hexcolor_Female, Hexcolor_Brand = plot_color_features(dataset, 'link_color', 1)"
   ]
  },
  {
   "cell_type": "code",
   "execution_count": 205,
   "metadata": {},
   "outputs": [],
   "source": [
    "col_range = list(range(len(male_num)))"
   ]
  },
  {
   "cell_type": "markdown",
   "metadata": {},
   "source": [
    "# A. Exploring link_color for each of the gender category\n",
    "# Plotting the graph of the link_color for the Male gender"
   ]
  },
  {
   "cell_type": "code",
   "execution_count": 206,
   "metadata": {},
   "outputs": [
    {
     "data": {
      "text/plain": [
       "Text(0.5, 1.0, 'Link colors which Male gender prefer ')"
      ]
     },
     "execution_count": 206,
     "metadata": {},
     "output_type": "execute_result"
    },
    {
     "data": {
      "image/png": "[encoded data removed]",
      "text/plain": [
       "<Figure size 432x288 with 1 Axes>"
      ]
     },
     "metadata": {
      "needs_background": "light"
     },
     "output_type": "display_data"
    }
   ],
   "source": [
    "plt.barh(col_range,male_num,\n",
    "                label = 'Male', color = Hexcolor_Male)\n",
    "plt.yticks(col_range, Hexcolor_Male)\n",
    "plt.xlabel('color')\n",
    "plt.ylabel('link_color')\n",
    "plt. title('Link colors which Male gender prefer ')"
   ]
  },
  {
   "cell_type": "markdown",
   "metadata": {},
   "source": [
    "# Plotting the graph of the link_color for the Female gender"
   ]
  },
  {
   "cell_type": "code",
   "execution_count": 207,
   "metadata": {},
   "outputs": [
    {
     "data": {
      "text/plain": [
       "Text(0.5, 1.0, 'Link colors which Female gender prefer')"
      ]
     },
     "execution_count": 207,
     "metadata": {},
     "output_type": "execute_result"
    },
    {
     "data": {
      "image/png": "[encoded data removed]",
      "text/plain": [
       "<Figure size 432x288 with 1 Axes>"
      ]
     },
     "metadata": {
      "needs_background": "light"
     },
     "output_type": "display_data"
    }
   ],
   "source": [
    "plt.barh(col_range,female_num,\n",
    "                label = 'Female', color = Hexcolor_Female)\n",
    "plt.yticks(col_range, Hexcolor_Female)\n",
    "plt.xlabel('color')\n",
    "plt.ylabel('link_color')\n",
    "plt. title('Link colors which Female gender prefer')"
   ]
  },
  {
   "cell_type": "markdown",
   "metadata": {},
   "source": [
    "# Plotting the graph of the link_color for the Brand"
   ]
  },
  {
   "cell_type": "code",
   "execution_count": 208,
   "metadata": {},
   "outputs": [
    {
     "data": {
      "text/plain": [
       "Text(0.5, 1.0, 'Link colors which Brand prefer')"
      ]
     },
     "execution_count": 208,
     "metadata": {},
     "output_type": "execute_result"
    },
    {
     "data": {
      "image/png": "[encoded data removed]",
      "text/plain": [
       "<Figure size 432x288 with 1 Axes>"
      ]
     },
     "metadata": {
      "needs_background": "light"
     },
     "output_type": "display_data"
    }
   ],
   "source": [
    "plt.barh(col_range,brand_num,\n",
    "                label = 'Brand', color = Hexcolor_Brand)\n",
    "plt.yticks(col_range, Hexcolor_Brand)\n",
    "plt.xlabel('color')\n",
    "plt.ylabel('link_color')\n",
    "plt. title('Link colors which Brand prefer')"
   ]
  },
  {
   "cell_type": "markdown",
   "metadata": {},
   "source": [
    "# B. Exploring sidebar_color for each of the gender category"
   ]
  },
  {
   "cell_type": "code",
   "execution_count": 209,
   "metadata": {},
   "outputs": [],
   "source": [
    "# calling function plot_color_features and removing 4 most common occuring color from each category\n",
    "male_num_sc, female_num_sc, brand_num_sc, Hexcolor_Male_sc, Hexcolor_Female_sc, Hexcolor_Brand_sc = plot_color_features(dataset, 'sidebar_color', 4)"
   ]
  },
  {
   "cell_type": "code",
   "execution_count": 210,
   "metadata": {},
   "outputs": [],
   "source": [
    "col_range_sc = list(range(len(male_num_sc)))"
   ]
  },
  {
   "cell_type": "markdown",
   "metadata": {},
   "source": [
    "# Plotting the graph of the side_color for the Male gender"
   ]
  },
  {
   "cell_type": "code",
   "execution_count": 211,
   "metadata": {},
   "outputs": [
    {
     "data": {
      "text/plain": [
       "Text(0.5, 1.0, 'Sidebar colors which Male gender prefer')"
      ]
     },
     "execution_count": 211,
     "metadata": {},
     "output_type": "execute_result"
    },
    {
     "data": {
      "image/png": "[encoded data removed]",
      "text/plain": [
       "<Figure size 432x288 with 1 Axes>"
      ]
     },
     "metadata": {
      "needs_background": "light"
     },
     "output_type": "display_data"
    }
   ],
   "source": [
    "plt.barh(col_range_sc,male_num_sc,label = 'Male', color = Hexcolor_Male_sc)\n",
    "plt.yticks(col_range_sc, Hexcolor_Male_sc)\n",
    "plt.xlabel('color')\n",
    "plt.ylabel('sidebar_color')\n",
    "plt. title('Sidebar colors which Male gender prefer')"
   ]
  },
  {
   "cell_type": "markdown",
   "metadata": {},
   "source": [
    "# Plotting the graph of the sidebar_color for the Female gender"
   ]
  },
  {
   "cell_type": "code",
   "execution_count": 212,
   "metadata": {},
   "outputs": [
    {
     "data": {
      "text/plain": [
       "Text(0.5, 1.0, 'Sidebar colors which Female gender prefer')"
      ]
     },
     "execution_count": 212,
     "metadata": {},
     "output_type": "execute_result"
    },
    {
     "data": {
      "image/png": "[encoded data removed]",
      "text/plain": [
       "<Figure size 432x288 with 1 Axes>"
      ]
     },
     "metadata": {
      "needs_background": "light"
     },
     "output_type": "display_data"
    }
   ],
   "source": [
    "plt.barh(col_range_sc,female_num_sc,label = 'Female', color = Hexcolor_Female_sc)\n",
    "plt.yticks(col_range_sc, Hexcolor_Female_sc)\n",
    "plt.xlabel('color')\n",
    "plt.ylabel('sidebar_color')\n",
    "plt. title('Sidebar colors which Female gender prefer')"
   ]
  },
  {
   "cell_type": "markdown",
   "metadata": {},
   "source": [
    "# Plotting the graph of the sidebar_color for the Brand "
   ]
  },
  {
   "cell_type": "code",
   "execution_count": 213,
   "metadata": {},
   "outputs": [
    {
     "data": {
      "text/plain": [
       "Text(0.5, 1.0, 'Sidebar colors which Brands prefer')"
      ]
     },
     "execution_count": 213,
     "metadata": {},
     "output_type": "execute_result"
    },
    {
     "data": {
      "image/png": "[encoded data removed]",
      "text/plain": [
       "<Figure size 432x288 with 1 Axes>"
      ]
     },
     "metadata": {
      "needs_background": "light"
     },
     "output_type": "display_data"
    }
   ],
   "source": [
    "plt.barh(col_range_sc,brand_num_sc,\n",
    "                label = 'Brand', color = Hexcolor_Brand_sc)\n",
    "plt.yticks(col_range_sc, Hexcolor_Brand_sc)\n",
    "plt.xlabel('color')\n",
    "plt.ylabel('sidebar_color')\n",
    "plt. title('Sidebar colors which Brands prefer')"
   ]
  },
  {
   "cell_type": "markdown",
   "metadata": {},
   "source": [
    "# Observations from the colors Features exploration"
   ]
  },
  {
   "cell_type": "markdown",
   "metadata": {},
   "source": [
    "#### 1) Female prefer 'pink' and 'purple' as their link_color\n",
    "#### 2) Male prefer 'green' and 'blue' as their link_color\n",
    "#### 3) Brand prefer 'blue' and 'green' as their link_color\n",
    "#### 4) Male prefer 'black' and 'blue' as their side_bar_color\n",
    "#### 5) female prefer 'blue' as their side_bar_color\n",
    "#### 6) Brand prefer 'green' and 'black' as their side_bar_color\n",
    "#### 7) Users change link color more than the side bar color"
   ]
  },
  {
   "cell_type": "markdown",
   "metadata": {},
   "source": [
    "# 2. Text and Description Features Exploration\n",
    " "
   ]
  },
  {
   "cell_type": "markdown",
   "metadata": {},
   "source": [
    "here we explore which words are used mostly by which genders"
   ]
  },
  {
   "cell_type": "code",
   "execution_count": 214,
   "metadata": {},
   "outputs": [],
   "source": [
    "#replacing NA with a gap\n",
    "dataset.description = dataset.description.fillna('')"
   ]
  },
  {
   "cell_type": "code",
   "execution_count": 215,
   "metadata": {},
   "outputs": [],
   "source": [
    "import string\n",
    "import re"
   ]
  },
  {
   "cell_type": "code",
   "execution_count": 216,
   "metadata": {},
   "outputs": [],
   "source": [
    "def clean(s):\n",
    "    s = str(s)        # Converting to string\n",
    "    s = s.lower()     # Normalizing text by converting everything to lower case\n",
    "    \n",
    "    # Removing characters that are non-alphanumeric\n",
    "    s = re.sub('https://t.co/\\w+', ' ',s)\n",
    "    s = re.sub('\\s\\W',' ',s) # Replacing one whitespace followed by one non-alphanumeric character with ' '\n",
    "    s = re.sub('\\W,\\s', ' ', s) # Replacing one non-alphanumeric character  followed by comma and one whitespace with ' '\n",
    "    s = re.sub(\"\\d+\",' ',s)     # Removing 1 or more digits\n",
    "    s = re.sub('\\s+', ' ', s)   # Removing 1 or more spaces from the text\n",
    "    s = re.sub('[!#?$@_%]', ' ', s) # Removing !, @, #, $, _ from the string\n",
    "    s = s.replace(',', ' ')\n",
    "    s = s.replace('[\\W*]', ' ')\n",
    "    return s"
   ]
  },
  {
   "cell_type": "code",
   "execution_count": 217,
   "metadata": {},
   "outputs": [
    {
     "data": {
      "text/plain": [
       "0        robbie e responds to critics after win against eddie edwards in the worldtitleseries                             \n",
       "1        ûïit felt like they were my friends and i was living the story with themû retired ian                         \n",
       "2        i absolutely adore when louis starts the songs it hits me hard but it feels good                                 \n",
       "3        hi jordanspieth looking at the url do you use ifttt   don't typically see an advanced user on the pgatour        \n",
       "4        watching neighbours on sky+ catching up with the neighbs   xxx  ù÷ä ù÷ä ù÷ä ùôî ùè ùô ùè xxx                  \n",
       "                                                      ...                                                                 \n",
       "20045     lookupondeath ..fine  and i'll drink tea too. i love you.                                                       \n",
       "20046    greg hardy you a good player and all but don't get in the face of dez bryant. learn your place mane.             \n",
       "20047    you can miss people and still never want to see them again                                                       \n",
       "20048     bitemyapp i had noticed your tendency to pee on the carpet  but i didn't want to say anything p                 \n",
       "20049    i think for my apush creative project i'm going to bring bacon to class and eat it to represent bacon's rebellion\n",
       "Name: text_normalized, Length: 20050, dtype: object"
      ]
     },
     "execution_count": 217,
     "metadata": {},
     "output_type": "execute_result"
    }
   ],
   "source": [
    "dataset['text_normalized'] = [clean(text) for text in dataset['text']]\n",
    "dataset['desc_normalized'] = [clean(desc) for desc in dataset['description']]\n",
    "pd.options.display.max_rows\n",
    "pd.set_option('display.max_colwidth', -1)\n",
    "\n",
    "dataset['text_normalized']"
   ]
  },
  {
   "cell_type": "code",
   "execution_count": 218,
   "metadata": {},
   "outputs": [
    {
     "data": {
      "text/plain": [
       "(34,)"
      ]
     },
     "execution_count": 218,
     "metadata": {},
     "output_type": "execute_result"
    }
   ],
   "source": [
    "dataset[dataset['link_color'].str.contains('E\\+') == True]['link_color'].shape"
   ]
  },
  {
   "cell_type": "code",
   "execution_count": 219,
   "metadata": {},
   "outputs": [],
   "source": [
    "# Putting all the profile description and the tweets itself in one string for each user\n",
    "datasetText = dataset\n",
    "datasetText['all_text'] =datasetText['text_normalized'].str.cat(datasetText['desc_normalized'],sep=' ')\n",
    "\n",
    "# Selecting rows where the confidence in gender is 1 and gender categories are female, male and brand\n",
    "# Since link_color column contains values with \"E\" , eliminating such values\n",
    "datasetText = datasetText[(datasetText['gender:confidence']==1)&(datasetText['gender']!='unknown')]"
   ]
  },
  {
   "cell_type": "code",
   "execution_count": 220,
   "metadata": {},
   "outputs": [
    {
     "data": {
      "text/plain": [
       "(13804, 11)"
      ]
     },
     "execution_count": 220,
     "metadata": {},
     "output_type": "execute_result"
    }
   ],
   "source": [
    "datasetText.shape"
   ]
  },
  {
   "cell_type": "code",
   "execution_count": 221,
   "metadata": {},
   "outputs": [],
   "source": [
    "male = datasetText[datasetText['gender'] == 'male']\n",
    "female = datasetText[datasetText['gender'] == 'female']\n",
    "brand = datasetText[datasetText['gender'] == 'brand']"
   ]
  },
  {
   "cell_type": "code",
   "execution_count": 222,
   "metadata": {},
   "outputs": [
    {
     "data": {
      "text/plain": [
       "(4653, 11)"
      ]
     },
     "execution_count": 222,
     "metadata": {},
     "output_type": "execute_result"
    }
   ],
   "source": [
    "#tokenization\n",
    "from sklearn.feature_extraction.text import CountVectorizer\n",
    "cvec = CountVectorizer(stop_words='english', strip_accents = 'unicode')\n",
    "male.shape"
   ]
  },
  {
   "cell_type": "markdown",
   "metadata": {},
   "source": [
    "# male users"
   ]
  },
  {
   "cell_type": "code",
   "execution_count": 223,
   "metadata": {},
   "outputs": [
    {
     "data": {
      "text/plain": [
       "<matplotlib.axes._subplots.AxesSubplot at 0x1ab5ac45048>"
      ]
     },
     "execution_count": 223,
     "metadata": {},
     "output_type": "execute_result"
    },
    {
     "data": {
      "image/png": "[encoded data removed]",
      "text/plain": [
       "<Figure size 432x288 with 1 Axes>"
      ]
     },
     "metadata": {
      "needs_background": "light"
     },
     "output_type": "display_data"
    }
   ],
   "source": [
    "cvec.fit(male['all_text'])\n",
    "male_dataset = pd.DataFrame(cvec.transform(male['all_text']).todense(),columns = cvec.get_feature_names())\n",
    "male_word_counts = male_dataset.sum(axis=0)\n",
    "male_word_counts.sort_values(ascending=False).head(20)\n",
    "male_word_counts.sort_values(ascending= False).head(10).plot(kind = 'barh',title = 'Most common words used by Male users based on the texts combined from tweets and description of users',color= 'red')"
   ]
  },
  {
   "cell_type": "markdown",
   "metadata": {},
   "source": [
    "# female users"
   ]
  },
  {
   "cell_type": "code",
   "execution_count": 224,
   "metadata": {},
   "outputs": [
    {
     "data": {
      "text/plain": [
       "<matplotlib.axes._subplots.AxesSubplot at 0x1ab5aef1848>"
      ]
     },
     "execution_count": 224,
     "metadata": {},
     "output_type": "execute_result"
    },
    {
     "data": {
      "image/png": "[encoded data removed]",
      "text/plain": [
       "<Figure size 432x288 with 1 Axes>"
      ]
     },
     "metadata": {
      "needs_background": "light"
     },
     "output_type": "display_data"
    }
   ],
   "source": [
    "cvec.fit(female['all_text'])\n",
    "female_dataset = pd.DataFrame(cvec.transform(female['all_text']).todense(),columns = cvec.get_feature_names())\n",
    "female_word_counts = female_dataset.sum(axis=0)\n",
    "female_word_counts.sort_values(ascending=False).head(20)\n",
    "female_word_counts.sort_values(ascending= False).head(10).plot(kind = 'barh',title = 'Most common words used by Female users based on the texts combined from tweets and description of users', color = 'pink')"
   ]
  },
  {
   "cell_type": "markdown",
   "metadata": {},
   "source": [
    "# brands"
   ]
  },
  {
   "cell_type": "code",
   "execution_count": 225,
   "metadata": {},
   "outputs": [
    {
     "data": {
      "text/plain": [
       "<matplotlib.axes._subplots.AxesSubplot at 0x1ab8b283ac8>"
      ]
     },
     "execution_count": 225,
     "metadata": {},
     "output_type": "execute_result"
    },
    {
     "data": {
      "image/png": "[encoded data removed]",
      "text/plain": [
       "<Figure size 432x288 with 1 Axes>"
      ]
     },
     "metadata": {
      "needs_background": "light"
     },
     "output_type": "display_data"
    }
   ],
   "source": [
    "cvec.fit(brand['all_text'])\n",
    "brand_dataset = pd.DataFrame(cvec.transform(brand['all_text']).todense(),columns = cvec.get_feature_names())\n",
    "brand_word_counts = brand_dataset.sum(axis=0)\n",
    "brand_word_counts.sort_values(ascending=False).head(20)\n",
    "brand_word_counts.sort_values(ascending= False).head(10).plot(kind = 'barh',title = 'Most common words used by Brands based on the texts combined from tweets and description of users', color = 'green')"
   ]
  },
  {
   "cell_type": "markdown",
   "metadata": {},
   "source": [
    "# Observations:\n",
    "\n",
    "#### The results from the text features exploration are not quite conclusive when compared with results obtained from the colors features exploration.\n",
    "#### Most used words used by male and female gender, are very similar words such as \"just\", \"like\", \"love\" .\n",
    "#### Brands tends to use the words \"weather\", \"channel\" \"updates\" and \"news\" more than regular male and female users. This means that we have probably many information or weather channels accounts in our dataset. Also, the usage of the word \"http\" decribes that brands tend to post more links than standard users."
   ]
  },
  {
   "cell_type": "markdown",
   "metadata": {},
   "source": [
    "#  Machine learning Modelling "
   ]
  },
  {
   "cell_type": "markdown",
   "metadata": {},
   "source": [
    "### performing following steps"
   ]
  },
  {
   "cell_type": "markdown",
   "metadata": {},
   "source": [
    "###### 1) Creating dummy variables for gender attribute in the dataset.\n",
    "###### 2) Splitting data into training and test set by using 60:40\n",
    "###### 3) running the following models on the training data and predicting on the test data\n",
    "######     * SVC\n",
    "######     * KNeighborsClassifier\n",
    "######     * LogisticRegression    \n",
    "###### 4) Evaluate model based on Accuracy."
   ]
  },
  {
   "cell_type": "code",
   "execution_count": 226,
   "metadata": {},
   "outputs": [],
   "source": [
    "from sklearn import linear_model, metrics\n",
    "from sklearn import naive_bayes\n",
    "from sklearn.ensemble import RandomForestClassifier\n",
    "from sklearn.neighbors import KNeighborsClassifier\n",
    "from sklearn.svm import SVC"
   ]
  },
  {
   "cell_type": "code",
   "execution_count": 227,
   "metadata": {},
   "outputs": [],
   "source": [
    "models = [linear_model.LogisticRegression(),KNeighborsClassifier(),SVC()]"
   ]
  },
  {
   "cell_type": "code",
   "execution_count": 228,
   "metadata": {},
   "outputs": [],
   "source": [
    "#training\n",
    "def eval_model(model):\n",
    "    model.fit(x_train, y_train)\n",
    "    y_pred = model.predict(x_test)\n",
    "    acc = model.score(x_test,y_test)\n",
    "    return acc"
   ]
  },
  {
   "cell_type": "code",
   "execution_count": 229,
   "metadata": {},
   "outputs": [],
   "source": [
    "# Defining a function for tokenization\n",
    "def bag_of_words_cal(text):\n",
    "    vectorizer = CountVectorizer(stop_words='english',strip_accents = 'unicode')\n",
    "    vectors = vectorizer.fit_transform(text)\n",
    "    return vectors"
   ]
  },
  {
   "cell_type": "markdown",
   "metadata": {},
   "source": [
    "#### A. Evaluating the relationship between link_color and user's gender "
   ]
  },
  {
   "cell_type": "code",
   "execution_count": 230,
   "metadata": {},
   "outputs": [],
   "source": [
    "from sklearn import linear_model, metrics\n",
    "from sklearn import naive_bayes\n",
    "from sklearn.pipeline import make_pipeline\n",
    "from sklearn.preprocessing import LabelEncoder\n",
    "from sklearn.model_selection import train_test_split\n",
    "\n",
    "# Using feature link_color as we saw from the visualizations that users tend to change link_color more than the sidebar color\n",
    "dataset_col = dataset.loc[:, ['gender:confidence', 'gender', 'link_color']]#, 'sidebar_color']]\n",
    "\n",
    "# Selecting rows where gender:confidence >= 1 and removing values like 7.60E+42\n",
    "datasetcolFiltered = dataset_col[(dataset_col['gender:confidence'] >= 1) & ((dataset_col['link_color']).str.contains('E\\+') != True)]\n",
    "\n",
    "bow = bag_of_words_cal(datasetcolFiltered['link_color'])\n",
    "X = bow\n",
    " \n",
    "y = LabelEncoder().fit_transform(datasetcolFiltered['gender'])\n",
    "\n",
    "# Listing the classifiers I want to test the data on"
   ]
  },
  {
   "cell_type": "code",
   "execution_count": 231,
   "metadata": {},
   "outputs": [],
   "source": [
    "x_train, x_test, y_train, y_test = train_test_split(X, y,\n",
    "                                                    test_size=0.4,\n",
    "                                                    stratify = y,\n",
    "                                                    random_state = 123)"
   ]
  },
  {
   "cell_type": "code",
   "execution_count": 232,
   "metadata": {},
   "outputs": [
    {
     "name": "stdout",
     "output_type": "stream",
     "text": [
      "(8340, 2290)\n",
      "(5560, 2290)\n",
      "(8340,)\n",
      "(5560,)\n"
     ]
    }
   ],
   "source": [
    "print(x_train.shape)\n",
    "print(x_test.shape)\n",
    "print(y_train.shape)\n",
    "print(y_test.shape)"
   ]
  },
  {
   "cell_type": "markdown",
   "metadata": {},
   "source": [
    "#### Baseline Model - link_color"
   ]
  },
  {
   "cell_type": "markdown",
   "metadata": {},
   "source": [
    "Calculating the baseline model by predicting the most frequently occuring gender class in the dataset."
   ]
  },
  {
   "cell_type": "code",
   "execution_count": 233,
   "metadata": {},
   "outputs": [],
   "source": [
    "from cytoolz import identity\n",
    "from sklearn.dummy import DummyClassifier\n",
    "from sklearn.model_selection import cross_val_score\n",
    "\n",
    "base_model = make_pipeline(CountVectorizer(analyzer=identity), DummyClassifier('most_frequent'))     \n",
    "base_score = cross_val_score(base_model,datasetcolFiltered['link_color'], \n",
    "                             datasetcolFiltered['gender'], cv=3, n_jobs=-1)"
   ]
  },
  {
   "cell_type": "code",
   "execution_count": 234,
   "metadata": {},
   "outputs": [
    {
     "data": {
      "text/plain": [
       "0.38546762988913513"
      ]
     },
     "execution_count": 234,
     "metadata": {},
     "output_type": "execute_result"
    }
   ],
   "source": [
    "base_score.mean()"
   ]
  },
  {
   "cell_type": "markdown",
   "metadata": {},
   "source": [
    "The accuracy of baseline model is 38.52%"
   ]
  },
  {
   "cell_type": "markdown",
   "metadata": {},
   "source": [
    "#### Results for link_color feature"
   ]
  },
  {
   "cell_type": "code",
   "execution_count": 235,
   "metadata": {},
   "outputs": [
    {
     "name": "stderr",
     "output_type": "stream",
     "text": [
      "C:\\Users\\lenovo\\anaconda3\\lib\\site-packages\\sklearn\\linear_model\\_logistic.py:940: ConvergenceWarning: lbfgs failed to converge (status=1):\n",
      "STOP: TOTAL NO. of ITERATIONS REACHED LIMIT.\n",
      "\n",
      "Increase the number of iterations (max_iter) or scale the data as shown in:\n",
      "    https://scikit-learn.org/stable/modules/preprocessing.html\n",
      "Please also refer to the documentation for alternative solver options:\n",
      "    https://scikit-learn.org/stable/modules/linear_model.html#logistic-regression\n",
      "  extra_warning_msg=_LOGISTIC_SOLVER_CONVERGENCE_MSG)\n"
     ]
    }
   ],
   "source": [
    "#for ignoring future warnings\n",
    "import warnings\n",
    "warnings.filterwarnings(\"ignore\", category=FutureWarning)\n",
    "\n",
    "results_lc =  pd.Series([eval_model(model) for model in models], \n",
    "                     index = ['logit', 'knn', 'svc'])"
   ]
  },
  {
   "cell_type": "code",
   "execution_count": 236,
   "metadata": {},
   "outputs": [
    {
     "name": "stdout",
     "output_type": "stream",
     "text": [
      "logit    0.436511\n",
      "knn      0.421223\n",
      "svc      0.436871\n",
      "dtype: float64\n"
     ]
    }
   ],
   "source": [
    "print(results_lc)"
   ]
  },
  {
   "cell_type": "markdown",
   "metadata": {},
   "source": [
    "It seems that svc model is performing better when link_color feature is used to predict the gender."
   ]
  },
  {
   "cell_type": "markdown",
   "metadata": {},
   "source": [
    "#### Plotting the bar plot for accuracies obtained for link_color feature"
   ]
  },
  {
   "cell_type": "code",
   "execution_count": 237,
   "metadata": {},
   "outputs": [
    {
     "data": {
      "text/plain": [
       "<matplotlib.axes._subplots.AxesSubplot at 0x1ab5b0448c8>"
      ]
     },
     "execution_count": 237,
     "metadata": {},
     "output_type": "execute_result"
    },
    {
     "data": {
      "image/png": "[encoded data removed]",
      "text/plain": [
       "<Figure size 432x288 with 1 Axes>"
      ]
     },
     "metadata": {
      "needs_background": "light"
     },
     "output_type": "display_data"
    }
   ],
   "source": [
    "mse_model = []\n",
    "acc_model = []\n",
    "for i in range(3):\n",
    "    acc = results_lc[i]\n",
    "    acc_model.append(acc)\n",
    "acc_model = pd.Series(acc_model, index = ['logit', 'knn', 'svc'])\n",
    "acc_model.plot(kind = 'barh', title = 'Accuracy of the models on link_color feature')    "
   ]
  },
  {
   "cell_type": "markdown",
   "metadata": {},
   "source": [
    "### B. Evaluating the relationship between sidebar_color and user's gender"
   ]
  },
  {
   "cell_type": "code",
   "execution_count": 238,
   "metadata": {},
   "outputs": [],
   "source": [
    "from sklearn import linear_model, metrics\n",
    "from sklearn import naive_bayes\n",
    "from sklearn.pipeline import make_pipeline\n",
    "\n",
    "dataset_col = dataset.loc[:, ['gender:confidence', 'gender', 'sidebar_color']]\n",
    "\n",
    "# Selecting rows where gender:confidence >= 1 and removing values like 7.60E+42\n",
    "datasetcolFiltered = dataset_col[(dataset_col['gender:confidence'] >= 1) & ((dataset_col['sidebar_color']).str.contains('E\\+') != True)]\n",
    "\n",
    "# splitting data into X and y\n",
    "\n",
    "bow = bag_of_words_cal(datasetcolFiltered['sidebar_color'])\n",
    "X = bow\n",
    "\n",
    "y = LabelEncoder().fit_transform(datasetcolFiltered['gender'])\n",
    "\n",
    "# Listing the classifiers I want to test the data on"
   ]
  },
  {
   "cell_type": "code",
   "execution_count": 239,
   "metadata": {},
   "outputs": [],
   "source": [
    "x_train, x_test, y_train, y_test = train_test_split(X, y,\n",
    "                                                    test_size=0.3,\n",
    "                                                    stratify = y,\n",
    "                                                    random_state = 123)"
   ]
  },
  {
   "cell_type": "code",
   "execution_count": 240,
   "metadata": {},
   "outputs": [
    {
     "name": "stdout",
     "output_type": "stream",
     "text": [
      "(9744, 473)\n",
      "(4176, 473)\n",
      "(9744,)\n",
      "(4176,)\n"
     ]
    }
   ],
   "source": [
    "print(x_train.shape)\n",
    "print(x_test.shape)\n",
    "print(y_train.shape)\n",
    "print(y_test.shape)"
   ]
  },
  {
   "cell_type": "markdown",
   "metadata": {},
   "source": [
    "#### Baseline Model - sidebar_color"
   ]
  },
  {
   "cell_type": "markdown",
   "metadata": {},
   "source": [
    "Calculating the baseline model by predicting the most frequently occuring gender class in the dataset."
   ]
  },
  {
   "cell_type": "code",
   "execution_count": 241,
   "metadata": {},
   "outputs": [],
   "source": [
    "base_model = make_pipeline(CountVectorizer(analyzer=identity), DummyClassifier('most_frequent'))     \n",
    "base_score = cross_val_score(base_model,datasetcolFiltered['sidebar_color'], \n",
    "                             datasetcolFiltered['gender'], cv=3, n_jobs=-1)"
   ]
  },
  {
   "cell_type": "code",
   "execution_count": 242,
   "metadata": {},
   "outputs": [
    {
     "data": {
      "text/plain": [
       "0.3852729885057471"
      ]
     },
     "execution_count": 242,
     "metadata": {},
     "output_type": "execute_result"
    }
   ],
   "source": [
    "base_score.mean()"
   ]
  },
  {
   "cell_type": "markdown",
   "metadata": {},
   "source": [
    "The accuracy of baseline model is 38.52%"
   ]
  },
  {
   "cell_type": "markdown",
   "metadata": {},
   "source": [
    "#### Results for sidebar_color feature"
   ]
  },
  {
   "cell_type": "code",
   "execution_count": 243,
   "metadata": {},
   "outputs": [
    {
     "name": "stderr",
     "output_type": "stream",
     "text": [
      "C:\\Users\\lenovo\\anaconda3\\lib\\site-packages\\sklearn\\linear_model\\_logistic.py:940: ConvergenceWarning: lbfgs failed to converge (status=1):\n",
      "STOP: TOTAL NO. of ITERATIONS REACHED LIMIT.\n",
      "\n",
      "Increase the number of iterations (max_iter) or scale the data as shown in:\n",
      "    https://scikit-learn.org/stable/modules/preprocessing.html\n",
      "Please also refer to the documentation for alternative solver options:\n",
      "    https://scikit-learn.org/stable/modules/linear_model.html#logistic-regression\n",
      "  extra_warning_msg=_LOGISTIC_SOLVER_CONVERGENCE_MSG)\n"
     ]
    }
   ],
   "source": [
    "results_sc =  pd.Series([eval_model(model) for model in models], \n",
    "                     index = ['logit', 'knn', 'svc'])"
   ]
  },
  {
   "cell_type": "code",
   "execution_count": 244,
   "metadata": {},
   "outputs": [
    {
     "name": "stdout",
     "output_type": "stream",
     "text": [
      "logit    0.410920\n",
      "knn      0.349856\n",
      "svc      0.410920\n",
      "dtype: float64\n"
     ]
    }
   ],
   "source": [
    "print(results_sc)"
   ]
  },
  {
   "cell_type": "markdown",
   "metadata": {},
   "source": [
    "It seems that Logistic Regression and svm models are performing better when sidebar_color feature is used to predict the gender."
   ]
  },
  {
   "cell_type": "markdown",
   "metadata": {},
   "source": [
    "#### Plotting the bar plot for accuracies obtained for sidebar_color feature"
   ]
  },
  {
   "cell_type": "code",
   "execution_count": 245,
   "metadata": {},
   "outputs": [],
   "source": [
    "mse_model = []\n",
    "acc_model = []\n",
    "for i in range(3):\n",
    "    acc = results_sc[i]\n",
    "    acc_model.append(acc)"
   ]
  },
  {
   "cell_type": "code",
   "execution_count": 246,
   "metadata": {},
   "outputs": [
    {
     "data": {
      "text/plain": [
       "<matplotlib.axes._subplots.AxesSubplot at 0x1ab5ad29508>"
      ]
     },
     "execution_count": 246,
     "metadata": {},
     "output_type": "execute_result"
    },
    {
     "data": {
      "image/png": "[encoded data removed]",
      "text/plain": [
       "<Figure size 432x288 with 1 Axes>"
      ]
     },
     "metadata": {
      "needs_background": "light"
     },
     "output_type": "display_data"
    }
   ],
   "source": [
    "acc_model = pd.Series(acc_model, index = ['logit', 'knn', 'svc'])\n",
    "acc_model.plot(kind = 'barh', title = 'Accuracy of the models on sidebar_color feature')"
   ]
  },
  {
   "cell_type": "markdown",
   "metadata": {},
   "source": [
    "## Conclusion: \n",
    "It can be observed that all the models yield approximately the same accuracy around 30-42% for both the link_color and sidebar_color features. 41% is not significant improvement in prediction of user's gender since baseline model is predicting with 38% accuracy.\n",
    "\n",
    "Hence, I would explore texts of the user to see if the texts are providing better results"
   ]
  },
  {
   "cell_type": "markdown",
   "metadata": {},
   "source": [
    "## How well does tweets and profile descriptions predict users gender?"
   ]
  },
  {
   "cell_type": "code",
   "execution_count": 247,
   "metadata": {},
   "outputs": [],
   "source": [
    "datasetTextmod = datasetText"
   ]
  },
  {
   "cell_type": "markdown",
   "metadata": {},
   "source": [
    "### A. Considering both description and tweets text together to evaluate the impact"
   ]
  },
  {
   "cell_type": "code",
   "execution_count": 249,
   "metadata": {},
   "outputs": [],
   "source": [
    "bow = bag_of_words_cal(datasetTextmod['all_text'])\n",
    "X = bow\n",
    "y = LabelEncoder().fit_transform(datasetTextmod['gender'])"
   ]
  },
  {
   "cell_type": "markdown",
   "metadata": {},
   "source": [
    "#### Baseline Model"
   ]
  },
  {
   "cell_type": "code",
   "execution_count": 250,
   "metadata": {},
   "outputs": [],
   "source": [
    "from cytoolz import identity\n",
    "from sklearn.dummy import DummyClassifier\n",
    "from sklearn.model_selection import cross_val_score\n",
    "base_model_t = make_pipeline(CountVectorizer(analyzer=identity), DummyClassifier('most_frequent'))     \n",
    "base_score_t = cross_val_score(base_model, datasetTextmod['all_text'], datasetTextmod['gender'], cv=5, n_jobs=-1)"
   ]
  },
  {
   "cell_type": "code",
   "execution_count": 251,
   "metadata": {},
   "outputs": [
    {
     "data": {
      "text/plain": [
       "0.3888003716359857"
      ]
     },
     "execution_count": 251,
     "metadata": {},
     "output_type": "execute_result"
    }
   ],
   "source": [
    "base_score_t.mean()"
   ]
  },
  {
   "cell_type": "markdown",
   "metadata": {},
   "source": [
    "The accuracy of baseline model after combining texts of both the profile description and tweets is 38.88%"
   ]
  },
  {
   "cell_type": "code",
   "execution_count": 252,
   "metadata": {},
   "outputs": [],
   "source": [
    "x_train, x_test, y_train, y_test = train_test_split(X, y,\n",
    "                                                    test_size=0.4,\n",
    "                                                    stratify = y,\n",
    "                                                    random_state = 123)"
   ]
  },
  {
   "cell_type": "markdown",
   "metadata": {},
   "source": [
    "#### Results for both the text (tweet and profile description)"
   ]
  },
  {
   "cell_type": "code",
   "execution_count": 253,
   "metadata": {},
   "outputs": [
    {
     "name": "stderr",
     "output_type": "stream",
     "text": [
      "C:\\Users\\lenovo\\anaconda3\\lib\\site-packages\\sklearn\\linear_model\\_logistic.py:940: ConvergenceWarning: lbfgs failed to converge (status=1):\n",
      "STOP: TOTAL NO. of ITERATIONS REACHED LIMIT.\n",
      "\n",
      "Increase the number of iterations (max_iter) or scale the data as shown in:\n",
      "    https://scikit-learn.org/stable/modules/preprocessing.html\n",
      "Please also refer to the documentation for alternative solver options:\n",
      "    https://scikit-learn.org/stable/modules/linear_model.html#logistic-regression\n",
      "  extra_warning_msg=_LOGISTIC_SOLVER_CONVERGENCE_MSG)\n"
     ]
    }
   ],
   "source": [
    "results_text =  pd.Series([eval_model(model) for model in models], \n",
    "                     index = ['logit', 'knn', 'svc'])"
   ]
  },
  {
   "cell_type": "code",
   "execution_count": 254,
   "metadata": {},
   "outputs": [
    {
     "name": "stdout",
     "output_type": "stream",
     "text": [
      "logit    0.640710\n",
      "knn      0.434806\n",
      "svc      0.639261\n",
      "dtype: float64\n"
     ]
    }
   ],
   "source": [
    "print(results_text)"
   ]
  },
  {
   "cell_type": "markdown",
   "metadata": {},
   "source": [
    "Logistic Regression is performing best with 60.43% accuracy"
   ]
  },
  {
   "cell_type": "markdown",
   "metadata": {},
   "source": [
    "#### Plotting bar plot for accuracy"
   ]
  },
  {
   "cell_type": "code",
   "execution_count": 255,
   "metadata": {},
   "outputs": [],
   "source": [
    "mse_model_text = []\n",
    "acc_model_text = []\n",
    "for i in range(3):\n",
    "    acc = results_text[i]\n",
    "    acc_model_text.append(acc)"
   ]
  },
  {
   "cell_type": "code",
   "execution_count": 256,
   "metadata": {},
   "outputs": [
    {
     "data": {
      "text/plain": [
       "<matplotlib.axes._subplots.AxesSubplot at 0x1ab67a20ac8>"
      ]
     },
     "execution_count": 256,
     "metadata": {},
     "output_type": "execute_result"
    },
    {
     "data": {
      "image/png": "[encoded data removed]",
      "text/plain": [
       "<Figure size 432x288 with 1 Axes>"
      ]
     },
     "metadata": {
      "needs_background": "light"
     },
     "output_type": "display_data"
    }
   ],
   "source": [
    "acc_model_text = pd.Series(acc_model_text, index = ['logit', 'knn', 'svc'])\n",
    "acc_model_text.plot(kind = 'barh', title = 'Accuracy of the models on both tweets and profile description')"
   ]
  },
  {
   "cell_type": "markdown",
   "metadata": {},
   "source": [
    "# Conclusion:"
   ]
  },
  {
   "cell_type": "raw",
   "metadata": {},
   "source": [
    "1. Logistic Regression is performing best in predicting gender of the users among the three models.\n",
    "2. Text feature is better in predicting users' gender when compared to color features."
   ]
  },
  {
   "cell_type": "code",
   "execution_count": null,
   "metadata": {},
   "outputs": [],
   "source": []
  },
  {
   "cell_type": "code",
   "execution_count": null,
   "metadata": {},
   "outputs": [],
   "source": []
  }
 ],
 "metadata": {
  "kernelspec": {
   "display_name": "Python 3",
   "language": "python",
   "name": "python3"
  },
  "language_info": {
   "codemirror_mode": {
    "name": "ipython",
    "version": 3
   },
   "file_extension": ".py",
   "mimetype": "text/x-python",
   "name": "python",
   "nbconvert_exporter": "python",
   "pygments_lexer": "ipython3",
   "version": "3.7.6"
  }
 },
 "nbformat": 4,
 "nbformat_minor": 4
}
